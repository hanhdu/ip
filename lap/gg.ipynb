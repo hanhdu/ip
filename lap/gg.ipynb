{
 "cells": [
  {
   "cell_type": "code",
   "execution_count": 3,
   "metadata": {},
   "outputs": [],
   "source": [
    "import cv2\n",
    "import numpy as np\n",
    "\n",
    "def apply_fuji_film_effect(image):\n",
    "    # Tạo ma trận màu để giả lập màu phim Fuji\n",
    "    fuji_color_matrix = np.array([[0.85, 0.0, 0.0],    # Red channel\n",
    "                                [0.0, 1.15, 0.0],    # Green channel\n",
    "                                [0.0, 0.2, 1.0]])    # Blue channel\n",
    "\n",
    "    # Áp dụng ma trận màu lên hình ảnh\n",
    "    color_image = cv2.cvtColor(image, cv2.COLOR_BGR2RGB)\n",
    "    fuji_image = np.dot(color_image, fuji_color_matrix.T)\n",
    "\n",
    "    # Đảo ngược việc áp dụng ma trận màu\n",
    "    fuji_image = np.clip(fuji_image, 0, 255).astype(np.uint8)\n",
    "\n",
    "    # Chuyển đổi lại sang định dạng màu BGR\n",
    "    fuji_image = cv2.cvtColor(fuji_image, cv2.COLOR_RGB2BGR)\n",
    "\n",
    "    return fuji_image\n",
    "\n",
    "# Đọc hình ảnh gốc\n",
    "image_path = \"DSCF1899.JPG\"\n",
    "original_image = cv2.imread(image_path)\n",
    "\n",
    "# Áp dụng hiệu ứng màu phim Fuji\n",
    "fuji_image = apply_fuji_film_effect(original_image)\n",
    "\n",
    "cv2.imwrite('DSCF1899_fj.JPG', fuji_image)\n",
    "# Hiển thị hình ảnh gốc và hình ảnh kết quả\n",
    "cv2.imshow(\"Original Image\", original_image)\n",
    "cv2.imshow(\"Fuji Film Effect\", fuji_image)\n",
    "cv2.waitKey(0)\n",
    "cv2.destroyAllWindows()"
   ]
  }
 ],
 "metadata": {
  "kernelspec": {
   "display_name": "Python 3",
   "language": "python",
   "name": "python3"
  },
  "language_info": {
   "codemirror_mode": {
    "name": "ipython",
    "version": 3
   },
   "file_extension": ".py",
   "mimetype": "text/x-python",
   "name": "python",
   "nbconvert_exporter": "python",
   "pygments_lexer": "ipython3",
   "version": "3.10.11"
  },
  "orig_nbformat": 4
 },
 "nbformat": 4,
 "nbformat_minor": 2
}
